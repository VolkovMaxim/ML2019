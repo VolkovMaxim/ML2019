{
  "nbformat": 4,
  "nbformat_minor": 0,
  "metadata": {
    "kernel_info": {
      "name": "py36"
    },
    "kernelspec": {
      "display_name": "Python 2",
      "language": "python",
      "name": "python2"
    },
    "language_info": {
      "codemirror_mode": {
        "name": "ipython",
        "version": 2
      },
      "file_extension": ".py",
      "mimetype": "text/x-python",
      "name": "python",
      "nbconvert_exporter": "python",
      "pygments_lexer": "ipython2",
      "version": "2.7.15"
    },
    "nteract": {
      "version": "0.11.6"
    },
    "colab": {
      "name": "homework-practice-01.ipynb",
      "version": "0.3.2",
      "provenance": []
    }
  },
  "cells": [
    {
      "cell_type": "markdown",
      "metadata": {
        "id": "WDFApESyAbt6",
        "colab_type": "text"
      },
      "source": [
        "# Машинное обучение, ФКН ВШЭ\n",
        "\n",
        "## Практическое задание 1\n",
        "\n",
        "### Общая информация\n",
        "Дата выдачи: 08.09.2019  \n",
        "\n",
        "Дедлайн: 23:59MSK 15.09.2019 (за каждый день просрочки снимается 1 балл)\n",
        "\n",
        " "
      ]
    },
    {
      "cell_type": "markdown",
      "metadata": {
        "id": "OZRnl0PxAbt9",
        "colab_type": "text"
      },
      "source": [
        "### О задании\n",
        "\n",
        "Задание состоит из трех разделов, посвященных работе  данными с помощью библиотек pandas, numpy и визуализации с помощью matplotlib. В каждом разделе вам предлагается выполнить несколько заданий. Баллы даются за выполнение отдельных пунктов. Задачи в рамках одного раздела рекомендуется решать в том порядке, в котором они даны в задании.\n",
        "\n",
        "Задание направлено на освоение jupyter notebook (будет использоваться в дальнейших заданиях), библиотекам numpy, pandas и matplotlib.\n",
        "\n",
        "### Оценивание и штрафы\n",
        "Каждая из задач имеет определенную «стоимость» (указана в скобках около задачи). Максимально допустимая оценка за работу — 10 баллов.\n",
        "\n",
        "При выставлении неполного балла за задание в связи с наличием ошибок на усмотрение проверяющего предусмотрена возможность исправить работу на указанных в ответном письме условиях.\n",
        "\n",
        "Задание выполняется самостоятельно. «Похожие» решения считаются плагиатом и все задействованные студенты (в том числе те, у кого списали) не могут получить за него больше 0 баллов (подробнее о плагиате см. на странице курса). Если вы нашли решение какого-то из заданий (или его часть) в открытом источнике, необходимо указать ссылку на этот источник в отдельном блоке в конце вашей работы (скорее всего вы будете не единственным, кто это нашел, поэтому чтобы исключить подозрение в плагиате, необходима ссылка на источник).\n",
        "\n",
        "### Формат сдачи\n",
        "Задания сдаются через систему Anytask. Инвайт можно найти на странице курса. Присылать необходимо ноутбук с выполненным заданием. \n",
        "\n",
        "Для удобства проверки самостоятельно посчитайте свою максимальную оценку (исходя из набора решенных задач) и укажите ниже.\n",
        "\n",
        "Оценка: xx."
      ]
    },
    {
      "cell_type": "markdown",
      "metadata": {
        "id": "3kR3jzC1Abt-",
        "colab_type": "text"
      },
      "source": [
        "## 0. Введение"
      ]
    },
    {
      "cell_type": "markdown",
      "metadata": {
        "collapsed": true,
        "id": "VitRbN-IAbt_",
        "colab_type": "text"
      },
      "source": [
        "Сейчас мы находимся в jupyter-ноутбуке (или ipython-ноутбуке). Это удобная среда для написания кода, проведения экспериментов, изучения данных, построения визуализаций и других нужд, не связанных с написаем production-кода. \n",
        "\n",
        "Ноутбук состоит из ячеек, каждая из которых может быть либо ячейкой с кодом, либо ячейкой с текстом размеченным и неразмеченным. Текст поддерживает markdown-разметку и формулы в Latex.\n",
        "\n",
        "Для работы с содержимым ячейки используется *режим редактирования* (*Edit mode*, включается нажатием клавиши **Enter** после выбора ячейки), а для навигации между ячейками искользуется *командный режим* (*Command mode*, включается нажатием клавиши **Esc**). Тип ячейки можно задать в командном режиме либо с помощью горячих клавиш (**y** to code, **m** to markdown, **r** to edit raw text), либо в меню *Cell -> Cell type*. \n",
        "\n",
        "После заполнения ячейки нужно нажать *Shift + Enter*, эта команда обработает содержимое ячейки: проинтерпретирует код или сверстает размеченный текст."
      ]
    },
    {
      "cell_type": "code",
      "metadata": {
        "id": "Vo9RkqcdAbuA",
        "colab_type": "code",
        "colab": {
          "base_uri": "https://localhost:8080/",
          "height": 34
        },
        "outputId": "2935c772-cc19-4082-aef0-aba1de86b530"
      },
      "source": [
        "# ячейка с кодом, при выполнении которой появится output\n",
        "2 + 2"
      ],
      "execution_count": 1,
      "outputs": [
        {
          "output_type": "execute_result",
          "data": {
            "text/plain": [
              "4"
            ]
          },
          "metadata": {
            "tags": []
          },
          "execution_count": 1
        }
      ]
    },
    {
      "cell_type": "markdown",
      "metadata": {
        "id": "8fC3tzuTAbuE",
        "colab_type": "text"
      },
      "source": [
        "А это ___ячейка с текстом___."
      ]
    },
    {
      "cell_type": "markdown",
      "metadata": {
        "id": "MMOWM7KUAbuF",
        "colab_type": "raw"
      },
      "source": [
        "Ячейка с неразмеченыным текстом."
      ]
    },
    {
      "cell_type": "markdown",
      "metadata": {
        "id": "TQByLoRbAbuG",
        "colab_type": "text"
      },
      "source": [
        "Попробуйте создать свои ячейки, написать какой-нибудь код и текст какой-нибудь формулой."
      ]
    },
    {
      "cell_type": "code",
      "metadata": {
        "id": "HbsVfq0fAbuH",
        "colab_type": "code",
        "colab": {}
      },
      "source": [
        "# your code"
      ],
      "execution_count": 0,
      "outputs": []
    },
    {
      "cell_type": "markdown",
      "metadata": {
        "id": "5GBEqhMGAbuM",
        "colab_type": "text"
      },
      "source": [
        "[Здесь](https://athena.brynmawr.edu/jupyter/hub/dblank/public/Jupyter%20Notebook%20Users%20Manual.ipynb) находится <s>не</s>большая заметка о используемом языке разметки Markdown. Он позволяет:\n",
        "\n",
        "0. Составлять упорядоченные списки\n",
        "1. #Делать \n",
        "##заголовки \n",
        "###разного уровня\n",
        "3. Выделять *текст* <s>при</s> **необходимости**\n",
        "4. Добавлять [ссылки](http://imgs.xkcd.com/comics/the_universal_label.png)\n",
        "\n",
        "\n",
        "* Составлять неупорядоченные списки\n",
        "\n",
        "Делать вставки с помощью LaTex:\n",
        "    \n",
        "$\n",
        "\\left\\{\n",
        "\\begin{array}{ll}\n",
        "x = 16 \\sin^3 (t) \\\\ \n",
        "y = 13 \\cos (t) - 5 \\cos (2t) - 2 \\cos (3t) - \\cos (4t) \\\\\n",
        "t \\in [0, 2 \\pi]\n",
        "\\end{array}\n",
        "\\right.$"
      ]
    },
    {
      "cell_type": "markdown",
      "metadata": {
        "id": "PZZ8WHFnAbuM",
        "colab_type": "text"
      },
      "source": [
        "А ещё можно вставлять картинки:\n",
        "<img src=\"https://st2.depositphotos.com/1177973/9266/i/950/depositphotos_92668716-stock-photo-red-cat-with-computer-keyboard.jpg\" style=\"width: 400px\">"
      ]
    },
    {
      "cell_type": "markdown",
      "metadata": {
        "id": "WNTiTm7NAbuN",
        "colab_type": "text"
      },
      "source": [
        "## 1. Numpy"
      ]
    },
    {
      "cell_type": "markdown",
      "metadata": {
        "id": "IxMkzL7dAbuO",
        "colab_type": "text"
      },
      "source": [
        "В этом разделе все задачи необходимо решить с помощью векторизованных вычислений в numpy. Запрещается использовать циклы, рекурсии, map и прочие конструкции \"чистого\" python, обрабатывающие последовательности (кроме задачи 4, где нужно написать дополнительную функцию с циклами).\n",
        "\n",
        "\n",
        "Можно считать, что все указанные объекты непустые (к примеру, в задаче 1 на диагонали матрицы есть ненулевые элементы) и корректные.\n",
        "\n",
        "\n",
        "Для каждой задачи заполните тело соответствующей функции, и затем запустите ячейку ###test your code (она должна напечатать OK). Рекомендуем также протестировать функцию на других входах."
      ]
    },
    {
      "cell_type": "markdown",
      "metadata": {
        "id": "qSiWojG9AbuP",
        "colab_type": "text"
      },
      "source": [
        "**Задача 1 (0.5 балла)**: Подсчитать произведение ненулевых элементов на диагонали прямоугольной матрицы.\n",
        "\n",
        "Например, для X = np.array([[1, 0, 1], [2, 0, 2], [3, 0, 3], [4, 4, 4]]) ответ – 3."
      ]
    },
    {
      "cell_type": "code",
      "metadata": {
        "id": "aWc-QvwwAbuQ",
        "colab_type": "code",
        "colab": {}
      },
      "source": [
        "import numpy as np\n",
        "def nonzero_prod(X):\n",
        "    ### your code here\n",
        "    return np.multiply.reduce(X.diagonal()[X.diagonal() != 0])"
      ],
      "execution_count": 0,
      "outputs": []
    },
    {
      "cell_type": "code",
      "metadata": {
        "id": "14SLH98SAbuT",
        "colab_type": "code",
        "colab": {
          "base_uri": "https://localhost:8080/",
          "height": 34
        },
        "outputId": "1f4dfd06-9724-44a9-8d2c-828c637ae072"
      },
      "source": [
        "### test your code\n",
        "X = np.arange(20).reshape(4, 5)\n",
        "X[2, 2] = 0\n",
        "assert nonzero_prod(X) == 6 * 18\n",
        "print(\"OK\")"
      ],
      "execution_count": 5,
      "outputs": [
        {
          "output_type": "stream",
          "text": [
            "OK\n"
          ],
          "name": "stdout"
        }
      ]
    },
    {
      "cell_type": "markdown",
      "metadata": {
        "id": "AcamVlpiAbuW",
        "colab_type": "text"
      },
      "source": [
        "**Задача 2 (0.5 балла)**: Найти максимальный элемент в векторе x среди элементов, перед которыми стоит нулевой.\n",
        "\n",
        "Например, для x = np.array([6, 2, 0, 3, 0, 0, 5, 7, 0]) ответ – 5."
      ]
    },
    {
      "cell_type": "code",
      "metadata": {
        "id": "oIjmSbU8AbuX",
        "colab_type": "code",
        "colab": {}
      },
      "source": [
        "def max_after_zero(x):\n",
        "    ### your code here\n",
        "    return np.max(x[1:][(x == 0)[:-1]])"
      ],
      "execution_count": 0,
      "outputs": []
    },
    {
      "cell_type": "code",
      "metadata": {
        "id": "EOCMCAp3Abub",
        "colab_type": "code",
        "colab": {
          "base_uri": "https://localhost:8080/",
          "height": 34
        },
        "outputId": "be1622e8-296b-4951-a1dc-3d616fe44a17"
      },
      "source": [
        "### test your code\n",
        "x = np.array([0, 1, 2, 0, 6, 0, 10, 0])\n",
        "assert max_after_zero(x) == 10\n",
        "print(\"OK\")"
      ],
      "execution_count": 7,
      "outputs": [
        {
          "output_type": "stream",
          "text": [
            "OK\n"
          ],
          "name": "stdout"
        }
      ]
    },
    {
      "cell_type": "markdown",
      "metadata": {
        "id": "_L4G9y-YAbue",
        "colab_type": "text"
      },
      "source": [
        "**Задача 3 (1 балл)**: Дан трёхмерный массив img, содержащий изображение, размера (height, width, numChannels), а также вектор weights длины numChannels. Сложить каналы изображения с указанными весами, и вернуть результат в виде матрицы размера (height, width).    \n",
        "    \n",
        "В ноутбуке приведите пример работы функции – преобразуйте цветное изображение в оттенки серого, использовав коэффициенты np.array([0.299, 0.587, 0.114]). Считать реальное изображение можно при помощи функции plt.imread (если изображение не в формате png, установите пакет pillow), а визуализировать - с помощью функции plt.imshow."
      ]
    },
    {
      "cell_type": "code",
      "metadata": {
        "id": "S1mmqKbdAbuf",
        "colab_type": "code",
        "colab": {}
      },
      "source": [
        "def grayscale(img, weights):\n",
        "    ### your code here\n",
        "    mat = img.reshape(-1, img.shape[2]) \n",
        "    weighted_mat = mat.dot(weights)\n",
        "    return weighted_mat.reshape(img.shape[0], img.shape[1])\n",
        "    "
      ],
      "execution_count": 0,
      "outputs": []
    },
    {
      "cell_type": "code",
      "metadata": {
        "id": "8MxT7DIYAbuj",
        "colab_type": "code",
        "colab": {
          "base_uri": "https://localhost:8080/",
          "height": 34
        },
        "outputId": "32a911f2-f4f4-4d34-db2d-7acfbc7365b4"
      },
      "source": [
        "### test your code\n",
        "img = np.arange(1*2*3).reshape(1, 2, 3)\n",
        "weights = np.array([0.299, 0.587, 0.114])\n",
        "res = np.array([[ 0.815,  3.815]])\n",
        "assert np.allclose(grayscale(img, weights), res)\n",
        "print(\"OK\")"
      ],
      "execution_count": 11,
      "outputs": [
        {
          "output_type": "stream",
          "text": [
            "OK\n"
          ],
          "name": "stdout"
        }
      ]
    },
    {
      "cell_type": "code",
      "metadata": {
        "id": "XIdZyMN6VOwu",
        "colab_type": "code",
        "colab": {}
      },
      "source": [
        "import matplotlib.pyplot as plt"
      ],
      "execution_count": 0,
      "outputs": []
    },
    {
      "cell_type": "code",
      "metadata": {
        "id": "-addKiDMAbuo",
        "colab_type": "code",
        "colab": {
          "base_uri": "https://localhost:8080/",
          "height": 286
        },
        "outputId": "652397dc-de8a-4f07-a5a3-710f257b9533"
      },
      "source": [
        "### your code here (transform and plot image)\n",
        "my_img = plt.imread(\"pika.png\")[:,:,:-1] #image is rgba\n",
        "my_img_gray = grayscale(my_img, weights)\n",
        "plt.imshow(my_img_gray)"
      ],
      "execution_count": 15,
      "outputs": [
        {
          "output_type": "execute_result",
          "data": {
            "text/plain": [
              "<matplotlib.image.AxesImage at 0x7fe003180150>"
            ]
          },
          "metadata": {
            "tags": []
          },
          "execution_count": 15
        },
        {
          "output_type": "display_data",
          "data": {
            "image/png": "[encoded data removed]",
            "text/plain": [
              "<Figure size 432x288 with 1 Axes>"
            ]
          },
          "metadata": {
            "tags": []
          }
        }
      ]
    },
    {
      "cell_type": "markdown",
      "metadata": {
        "id": "op8uJeumAbur",
        "colab_type": "text"
      },
      "source": [
        "**Задача 4 (1 балл)**: Даны две выборки объектов - X и Y (с одинаковым числом столбцов, объекты расположены по строкам). Вычислить матрицу евклидовых расстояний между объектами.\n",
        "\n",
        "Для этой задачи реализуйте также функцию без использования numpy (с циклами). Сравните по скорости работы векторизованную версию с невекторизованной и с функцией scipy.spatial.distance.cdist на случайно сгенерированных матрицах размера 100 x 1000 (сравнения приведите ниже в ноутбуке)."
      ]
    },
    {
      "cell_type": "code",
      "metadata": {
        "id": "GTF9jlX5Abus",
        "colab_type": "code",
        "colab": {}
      },
      "source": [
        "def cdist_numpy(X, Y):\n",
        "    ### your code here\n",
        "    return np.sqrt(((X[:, :, None] - Y[:, :, None].T) ** 2).sum(axis=1))"
      ],
      "execution_count": 0,
      "outputs": []
    },
    {
      "cell_type": "code",
      "metadata": {
        "id": "pgpfVDwrAbuv",
        "colab_type": "code",
        "colab": {}
      },
      "source": [
        "def cdist_python(X, Y):\n",
        "    distance = np.empty((X.shape[0], Y.shape[0]))\n",
        "    ### your code here\n",
        "    for i in range(X.shape[0]):\n",
        "        for j in range(Y.shape[0]):\n",
        "          cur_sum = 0\n",
        "          for k in range(X.shape[1]):\n",
        "            cur_sum += (X[i][k] - Y[i][k]) ** 2\n",
        "          distance[i][j] = cur_sum ** 0.5\n",
        "    return distance"
      ],
      "execution_count": 0,
      "outputs": []
    },
    {
      "cell_type": "code",
      "metadata": {
        "id": "bUckL40JAbux",
        "colab_type": "code",
        "colab": {
          "base_uri": "https://localhost:8080/",
          "height": 34
        },
        "outputId": "fc2d66c0-a070-4eb5-c26f-c321e296c9cb"
      },
      "source": [
        "### test your code\n",
        "from scipy.spatial.distance import cdist\n",
        "X = np.arange(12).reshape(4, 3)\n",
        "Y = np.arange(1, 16).reshape(5, 3)\n",
        "assert np.allclose(cdist(X, Y), cdist_numpy(X, Y))\n",
        "assert np.allclose(cdist(X, Y), cdist_python(X, Y))\n",
        "print(\"OK\")"
      ],
      "execution_count": 46,
      "outputs": [
        {
          "output_type": "stream",
          "text": [
            "OK\n"
          ],
          "name": "stdout"
        }
      ]
    },
    {
      "cell_type": "code",
      "metadata": {
        "id": "ZWqnfZNJf4po",
        "colab_type": "code",
        "colab": {}
      },
      "source": [
        "import time"
      ],
      "execution_count": 0,
      "outputs": []
    },
    {
      "cell_type": "code",
      "metadata": {
        "id": "vAyFxpukAbu0",
        "colab_type": "code",
        "colab": {
          "base_uri": "https://localhost:8080/",
          "height": 34
        },
        "outputId": "98e8072f-d2c3-414c-bf82-b6d869e0bb50"
      },
      "source": [
        "### your code here (compare working time of three implementations)\n",
        "\n",
        "start = time.clock()\n",
        "cdist(X, Y)\n",
        "print(time.clock() - start)"
      ],
      "execution_count": 32,
      "outputs": [
        {
          "output_type": "stream",
          "text": [
            "0.000269\n"
          ],
          "name": "stdout"
        }
      ]
    },
    {
      "cell_type": "code",
      "metadata": {
        "id": "M2DOy2nLgTGC",
        "colab_type": "code",
        "colab": {
          "base_uri": "https://localhost:8080/",
          "height": 34
        },
        "outputId": "e2ce5e2f-1075-4ea7-f014-b4c8b6419d70"
      },
      "source": [
        "start = time.clock()\n",
        "cdist_numpy(X, Y)\n",
        "print(time.clock() - start)"
      ],
      "execution_count": 33,
      "outputs": [
        {
          "output_type": "stream",
          "text": [
            "0.000283\n"
          ],
          "name": "stdout"
        }
      ]
    },
    {
      "cell_type": "code",
      "metadata": {
        "id": "U6prRrRgjJVS",
        "colab_type": "code",
        "colab": {
          "base_uri": "https://localhost:8080/",
          "height": 34
        },
        "outputId": "8ba9b69a-e314-4f08-819d-eed68093454a"
      },
      "source": [
        "start = time.clock()\n",
        "cdist_python(X, Y)\n",
        "print(time.clock() - start)"
      ],
      "execution_count": 45,
      "outputs": [
        {
          "output_type": "stream",
          "text": [
            "0.000934\n"
          ],
          "name": "stdout"
        }
      ]
    },
    {
      "cell_type": "markdown",
      "metadata": {
        "id": "kx1gU8s_Abu2",
        "colab_type": "text"
      },
      "source": [
        "## 2. Табличные данные и Pandas"
      ]
    },
    {
      "cell_type": "markdown",
      "metadata": {
        "id": "iZ_CQ2OIAbu3",
        "colab_type": "text"
      },
      "source": [
        "Pandas — удобная библиотека для работы с табличными данными в Python, если данных не слишком много и они помещаются в оперативную память вашего компьютера. Несмотря на неэффективность реализации и некоторые проблемы, библиотека стала стандартом в анализе данных. С этой библиотекой мы сейчас и познакомимся.\n",
        "\n",
        "Основной объект в pandas это DataFrame, представляющий собой таблицу с именованными колонками различных типов, индексом (может быть многоуровневым). DataFrame можно создавать, считывая таблицу из файла или задавая вручную из других объектов.\n",
        "\n",
        "В этой части потребуется выполнить несколько небольших заданий. Можно пойти двумя путями: сначала изучить материалы, а потом приступить к заданиям, или же разбираться \"по ходу\". Выбирайте сами.\n",
        "\n",
        "Материалы:\n",
        "1. [Pandas за 10 минут из официального руководства](http://pandas.pydata.org/pandas-docs/stable/10min.html)\n",
        "2. [Документация](http://pandas.pydata.org/pandas-docs/stable/index.html) (стоит обращаться, если не понятно, как вызывать конкретный метод)\n",
        "3. [Примеры использования функционала](http://nbviewer.jupyter.org/github/justmarkham/pandas-videos/blob/master/pandas.ipynb)\n",
        "\n",
        "Многие из заданий можно выполнить несколькими способами. Не существуют единственно верного, но попробуйте максимально задействовать арсенал pandas и ориентируйтесь на простоту и понятность вашего кода. Мы не будем подсказывать, что нужно использовать для решения конкретной задачи, попробуйте находить необходимый функционал сами (название метода чаще всего очевидно). В помощь вам документация, поиск и stackoverflow."
      ]
    },
    {
      "cell_type": "code",
      "metadata": {
        "id": "B-erAaWQAbu4",
        "colab_type": "code",
        "colab": {
          "base_uri": "https://localhost:8080/",
          "height": 34
        },
        "outputId": "1a36cdc6-2855-49e6-8778-8963382ffddc"
      },
      "source": [
        "%pylab inline  \n",
        "# import almost all we need\n",
        "import pandas as pd"
      ],
      "execution_count": 5,
      "outputs": [
        {
          "output_type": "stream",
          "text": [
            "Populating the interactive namespace from numpy and matplotlib\n"
          ],
          "name": "stdout"
        }
      ]
    },
    {
      "cell_type": "markdown",
      "metadata": {
        "id": "3O2NA24jAbu7",
        "colab_type": "text"
      },
      "source": [
        "Данные можно скачать [отсюда](https://www.dropbox.com/s/5qq94wzmbw4e54r/data.csv?dl=0)."
      ]
    },
    {
      "cell_type": "markdown",
      "metadata": {
        "id": "Zv_PaezWAbu8",
        "colab_type": "text"
      },
      "source": [
        "#### 1. [0.25 баллов] Откройте файл с таблицей (не забудьте про её формат). Выведите последние 10 строк.\n",
        "\n",
        "Посмотрите на данные и скажите, что они из себя представляют, сколько в таблице строк, какие столбцы?"
      ]
    },
    {
      "cell_type": "code",
      "metadata": {
        "id": "Rb9QNOOoAbu9",
        "colab_type": "code",
        "colab": {
          "base_uri": "https://localhost:8080/",
          "height": 359
        },
        "outputId": "cb79f04e-b084-4e4d-a14d-13746921e1e9"
      },
      "source": [
        "# your code\n",
        "data = pd.read_csv(\"data.csv\")\n",
        "data.tail(10)"
      ],
      "execution_count": 6,
      "outputs": [
        {
          "output_type": "execute_result",
          "data": {
            "text/html": [
              "<div>\n",
              "<style scoped>\n",
              "    .dataframe tbody tr th:only-of-type {\n",
              "        vertical-align: middle;\n",
              "    }\n",
              "\n",
              "    .dataframe tbody tr th {\n",
              "        vertical-align: top;\n",
              "    }\n",
              "\n",
              "    .dataframe thead th {\n",
              "        text-align: right;\n",
              "    }\n",
              "</style>\n",
              "<table border=\"1\" class=\"dataframe\">\n",
              "  <thead>\n",
              "    <tr style=\"text-align: right;\">\n",
              "      <th></th>\n",
              "      <th>order_id</th>\n",
              "      <th>quantity</th>\n",
              "      <th>item_name</th>\n",
              "      <th>choice_description</th>\n",
              "      <th>item_price</th>\n",
              "    </tr>\n",
              "  </thead>\n",
              "  <tbody>\n",
              "    <tr>\n",
              "      <th>4612</th>\n",
              "      <td>1831</td>\n",
              "      <td>1</td>\n",
              "      <td>Carnitas Bowl</td>\n",
              "      <td>[Fresh Tomato Salsa, [Fajita Vegetables, Rice,...</td>\n",
              "      <td>$9.25</td>\n",
              "    </tr>\n",
              "    <tr>\n",
              "      <th>4613</th>\n",
              "      <td>1831</td>\n",
              "      <td>1</td>\n",
              "      <td>Chips</td>\n",
              "      <td>NaN</td>\n",
              "      <td>$2.15</td>\n",
              "    </tr>\n",
              "    <tr>\n",
              "      <th>4614</th>\n",
              "      <td>1831</td>\n",
              "      <td>1</td>\n",
              "      <td>Bottled Water</td>\n",
              "      <td>NaN</td>\n",
              "      <td>$1.50</td>\n",
              "    </tr>\n",
              "    <tr>\n",
              "      <th>4615</th>\n",
              "      <td>1832</td>\n",
              "      <td>1</td>\n",
              "      <td>Chicken Soft Tacos</td>\n",
              "      <td>[Fresh Tomato Salsa, [Rice, Cheese, Sour Cream]]</td>\n",
              "      <td>$8.75</td>\n",
              "    </tr>\n",
              "    <tr>\n",
              "      <th>4616</th>\n",
              "      <td>1832</td>\n",
              "      <td>1</td>\n",
              "      <td>Chips and Guacamole</td>\n",
              "      <td>NaN</td>\n",
              "      <td>$4.45</td>\n",
              "    </tr>\n",
              "    <tr>\n",
              "      <th>4617</th>\n",
              "      <td>1833</td>\n",
              "      <td>1</td>\n",
              "      <td>Steak Burrito</td>\n",
              "      <td>[Fresh Tomato Salsa, [Rice, Black Beans, Sour ...</td>\n",
              "      <td>$11.75</td>\n",
              "    </tr>\n",
              "    <tr>\n",
              "      <th>4618</th>\n",
              "      <td>1833</td>\n",
              "      <td>1</td>\n",
              "      <td>Steak Burrito</td>\n",
              "      <td>[Fresh Tomato Salsa, [Rice, Sour Cream, Cheese...</td>\n",
              "      <td>$11.75</td>\n",
              "    </tr>\n",
              "    <tr>\n",
              "      <th>4619</th>\n",
              "      <td>1834</td>\n",
              "      <td>1</td>\n",
              "      <td>Chicken Salad Bowl</td>\n",
              "      <td>[Fresh Tomato Salsa, [Fajita Vegetables, Pinto...</td>\n",
              "      <td>$11.25</td>\n",
              "    </tr>\n",
              "    <tr>\n",
              "      <th>4620</th>\n",
              "      <td>1834</td>\n",
              "      <td>1</td>\n",
              "      <td>Chicken Salad Bowl</td>\n",
              "      <td>[Fresh Tomato Salsa, [Fajita Vegetables, Lettu...</td>\n",
              "      <td>$8.75</td>\n",
              "    </tr>\n",
              "    <tr>\n",
              "      <th>4621</th>\n",
              "      <td>1834</td>\n",
              "      <td>1</td>\n",
              "      <td>Chicken Salad Bowl</td>\n",
              "      <td>[Fresh Tomato Salsa, [Fajita Vegetables, Pinto...</td>\n",
              "      <td>$8.75</td>\n",
              "    </tr>\n",
              "  </tbody>\n",
              "</table>\n",
              "</div>"
            ],
            "text/plain": [
              "      order_id  ...  item_price\n",
              "4612      1831  ...      $9.25 \n",
              "4613      1831  ...      $2.15 \n",
              "4614      1831  ...      $1.50 \n",
              "4615      1832  ...      $8.75 \n",
              "4616      1832  ...      $4.45 \n",
              "4617      1833  ...     $11.75 \n",
              "4618      1833  ...     $11.75 \n",
              "4619      1834  ...     $11.25 \n",
              "4620      1834  ...      $8.75 \n",
              "4621      1834  ...      $8.75 \n",
              "\n",
              "[10 rows x 5 columns]"
            ]
          },
          "metadata": {
            "tags": []
          },
          "execution_count": 6
        }
      ]
    },
    {
      "cell_type": "markdown",
      "metadata": {
        "id": "FgvS761yAbvD",
        "colab_type": "text"
      },
      "source": [
        "#### 2. [0.25 баллов] Ответьте на вопросы:\n",
        "1. Сколько заказов попало в выборку?\n",
        "2. Сколько уникальных категорий товара было куплено? (item_name)"
      ]
    },
    {
      "cell_type": "code",
      "metadata": {
        "id": "DYzKXpVyAbvG",
        "colab_type": "code",
        "colab": {
          "base_uri": "https://localhost:8080/",
          "height": 34
        },
        "outputId": "c58d615e-7662-48bc-e10d-1f781f8dd261"
      },
      "source": [
        "# your code\n",
        "data[\"order_id\"].nunique()"
      ],
      "execution_count": 308,
      "outputs": [
        {
          "output_type": "execute_result",
          "data": {
            "text/plain": [
              "1834"
            ]
          },
          "metadata": {
            "tags": []
          },
          "execution_count": 308
        }
      ]
    },
    {
      "cell_type": "code",
      "metadata": {
        "id": "qITMaAhCk5dn",
        "colab_type": "code",
        "colab": {
          "base_uri": "https://localhost:8080/",
          "height": 34
        },
        "outputId": "fe9c9331-09fd-4eb2-f061-9ae68329f2d1"
      },
      "source": [
        "data[\"item_name\"].nunique()"
      ],
      "execution_count": 309,
      "outputs": [
        {
          "output_type": "execute_result",
          "data": {
            "text/plain": [
              "50"
            ]
          },
          "metadata": {
            "tags": []
          },
          "execution_count": 309
        }
      ]
    },
    {
      "cell_type": "markdown",
      "metadata": {
        "id": "zNxEpopMAbvJ",
        "colab_type": "text"
      },
      "source": [
        "#### 3. [0.25 баллов] Есть ли в данных пропуски? В каких колонках? "
      ]
    },
    {
      "cell_type": "code",
      "metadata": {
        "id": "6TUH2IJTAbvK",
        "colab_type": "code",
        "colab": {
          "base_uri": "https://localhost:8080/",
          "height": 119
        },
        "outputId": "211f6724-59fb-4059-d7ce-c2314f6afb26"
      },
      "source": [
        "# your code\n",
        "data.isnull().sum(axis=0)"
      ],
      "execution_count": 310,
      "outputs": [
        {
          "output_type": "execute_result",
          "data": {
            "text/plain": [
              "order_id                 0\n",
              "quantity                 0\n",
              "item_name                0\n",
              "choice_description    1246\n",
              "item_price               0\n",
              "dtype: int64"
            ]
          },
          "metadata": {
            "tags": []
          },
          "execution_count": 310
        }
      ]
    },
    {
      "cell_type": "markdown",
      "metadata": {
        "id": "RsrKsAkqAbvM",
        "colab_type": "text"
      },
      "source": [
        "Заполните пропуски пустой строкой для строковых колонок и нулём для числовых."
      ]
    },
    {
      "cell_type": "code",
      "metadata": {
        "id": "SKnrUBIqAbvN",
        "colab_type": "code",
        "colab": {}
      },
      "source": [
        "# your code\n",
        "data[\"choice_description\"].fillna(\"\", inplace=True)"
      ],
      "execution_count": 0,
      "outputs": []
    },
    {
      "cell_type": "markdown",
      "metadata": {
        "id": "db-C6Y2QAbvP",
        "colab_type": "text"
      },
      "source": [
        "#### 4. [0.5 баллов] Посмотрите внимательнее на колонку с ценой товара. Какого она типа? Создайте новую колонку так, чтобы в ней цена была числом.\n",
        "\n",
        "Для этого попробуйте применить функцию-преобразование к каждой строке вашей таблицы (для этого есть соответствующая функция)."
      ]
    },
    {
      "cell_type": "code",
      "metadata": {
        "id": "YUB2wnncAbvQ",
        "colab_type": "code",
        "colab": {
          "base_uri": "https://localhost:8080/",
          "height": 204
        },
        "outputId": "ec7dcf81-f5ef-4e79-fcc5-8a952a5847d9"
      },
      "source": [
        "# your code\n",
        "data[\"price\"] = data[\"item_price\"].apply(lambda x: float(x[1:]))\n",
        "data.head()"
      ],
      "execution_count": 8,
      "outputs": [
        {
          "output_type": "execute_result",
          "data": {
            "text/html": [
              "<div>\n",
              "<style scoped>\n",
              "    .dataframe tbody tr th:only-of-type {\n",
              "        vertical-align: middle;\n",
              "    }\n",
              "\n",
              "    .dataframe tbody tr th {\n",
              "        vertical-align: top;\n",
              "    }\n",
              "\n",
              "    .dataframe thead th {\n",
              "        text-align: right;\n",
              "    }\n",
              "</style>\n",
              "<table border=\"1\" class=\"dataframe\">\n",
              "  <thead>\n",
              "    <tr style=\"text-align: right;\">\n",
              "      <th></th>\n",
              "      <th>order_id</th>\n",
              "      <th>quantity</th>\n",
              "      <th>item_name</th>\n",
              "      <th>choice_description</th>\n",
              "      <th>item_price</th>\n",
              "      <th>price</th>\n",
              "    </tr>\n",
              "  </thead>\n",
              "  <tbody>\n",
              "    <tr>\n",
              "      <th>0</th>\n",
              "      <td>1</td>\n",
              "      <td>1</td>\n",
              "      <td>Chips and Fresh Tomato Salsa</td>\n",
              "      <td></td>\n",
              "      <td>$2.39</td>\n",
              "      <td>2.39</td>\n",
              "    </tr>\n",
              "    <tr>\n",
              "      <th>1</th>\n",
              "      <td>1</td>\n",
              "      <td>1</td>\n",
              "      <td>Izze</td>\n",
              "      <td>[Clementine]</td>\n",
              "      <td>$3.39</td>\n",
              "      <td>3.39</td>\n",
              "    </tr>\n",
              "    <tr>\n",
              "      <th>2</th>\n",
              "      <td>1</td>\n",
              "      <td>1</td>\n",
              "      <td>Nantucket Nectar</td>\n",
              "      <td>[Apple]</td>\n",
              "      <td>$3.39</td>\n",
              "      <td>3.39</td>\n",
              "    </tr>\n",
              "    <tr>\n",
              "      <th>3</th>\n",
              "      <td>1</td>\n",
              "      <td>1</td>\n",
              "      <td>Chips and Tomatillo-Green Chili Salsa</td>\n",
              "      <td></td>\n",
              "      <td>$2.39</td>\n",
              "      <td>2.39</td>\n",
              "    </tr>\n",
              "    <tr>\n",
              "      <th>4</th>\n",
              "      <td>2</td>\n",
              "      <td>2</td>\n",
              "      <td>Chicken Bowl</td>\n",
              "      <td>[Tomatillo-Red Chili Salsa (Hot), [Black Beans...</td>\n",
              "      <td>$16.98</td>\n",
              "      <td>16.98</td>\n",
              "    </tr>\n",
              "  </tbody>\n",
              "</table>\n",
              "</div>"
            ],
            "text/plain": [
              "   order_id  quantity  ... item_price  price\n",
              "0         1         1  ...     $2.39    2.39\n",
              "1         1         1  ...     $3.39    3.39\n",
              "2         1         1  ...     $3.39    3.39\n",
              "3         1         1  ...     $2.39    2.39\n",
              "4         2         2  ...    $16.98   16.98\n",
              "\n",
              "[5 rows x 6 columns]"
            ]
          },
          "metadata": {
            "tags": []
          },
          "execution_count": 8
        }
      ]
    },
    {
      "cell_type": "markdown",
      "metadata": {
        "id": "xabFnJK3AbvS",
        "colab_type": "text"
      },
      "source": [
        "Какая средняя/минимальная/максимальная цена у товара? "
      ]
    },
    {
      "cell_type": "code",
      "metadata": {
        "id": "QyleeYXDAbvT",
        "colab_type": "code",
        "colab": {
          "base_uri": "https://localhost:8080/",
          "height": 170
        },
        "outputId": "6422cbe1-35de-49d8-9090-1b6cbe90c36c"
      },
      "source": [
        "# your code\n",
        "data[\"price\"].describe()"
      ],
      "execution_count": 313,
      "outputs": [
        {
          "output_type": "execute_result",
          "data": {
            "text/plain": [
              "count    4622.000000\n",
              "mean        7.464336\n",
              "std         4.245557\n",
              "min         1.090000\n",
              "25%         3.390000\n",
              "50%         8.750000\n",
              "75%         9.250000\n",
              "max        44.250000\n",
              "Name: price, dtype: float64"
            ]
          },
          "metadata": {
            "tags": []
          },
          "execution_count": 313
        }
      ]
    },
    {
      "cell_type": "markdown",
      "metadata": {
        "id": "pX8fD_lcAbvV",
        "colab_type": "text"
      },
      "source": [
        "Удалите старую колонку с ценой."
      ]
    },
    {
      "cell_type": "code",
      "metadata": {
        "id": "p2q_JQ8_AbvW",
        "colab_type": "code",
        "colab": {
          "base_uri": "https://localhost:8080/",
          "height": 204
        },
        "outputId": "7fdb4d28-3567-4408-efb0-f29682ad957f"
      },
      "source": [
        "# your code\n",
        "data.drop(\"item_price\", axis=1, inplace=True)\n",
        "data.head()"
      ],
      "execution_count": 9,
      "outputs": [
        {
          "output_type": "execute_result",
          "data": {
            "text/html": [
              "<div>\n",
              "<style scoped>\n",
              "    .dataframe tbody tr th:only-of-type {\n",
              "        vertical-align: middle;\n",
              "    }\n",
              "\n",
              "    .dataframe tbody tr th {\n",
              "        vertical-align: top;\n",
              "    }\n",
              "\n",
              "    .dataframe thead th {\n",
              "        text-align: right;\n",
              "    }\n",
              "</style>\n",
              "<table border=\"1\" class=\"dataframe\">\n",
              "  <thead>\n",
              "    <tr style=\"text-align: right;\">\n",
              "      <th></th>\n",
              "      <th>order_id</th>\n",
              "      <th>quantity</th>\n",
              "      <th>item_name</th>\n",
              "      <th>choice_description</th>\n",
              "      <th>price</th>\n",
              "    </tr>\n",
              "  </thead>\n",
              "  <tbody>\n",
              "    <tr>\n",
              "      <th>0</th>\n",
              "      <td>1</td>\n",
              "      <td>1</td>\n",
              "      <td>Chips and Fresh Tomato Salsa</td>\n",
              "      <td></td>\n",
              "      <td>2.39</td>\n",
              "    </tr>\n",
              "    <tr>\n",
              "      <th>1</th>\n",
              "      <td>1</td>\n",
              "      <td>1</td>\n",
              "      <td>Izze</td>\n",
              "      <td>[Clementine]</td>\n",
              "      <td>3.39</td>\n",
              "    </tr>\n",
              "    <tr>\n",
              "      <th>2</th>\n",
              "      <td>1</td>\n",
              "      <td>1</td>\n",
              "      <td>Nantucket Nectar</td>\n",
              "      <td>[Apple]</td>\n",
              "      <td>3.39</td>\n",
              "    </tr>\n",
              "    <tr>\n",
              "      <th>3</th>\n",
              "      <td>1</td>\n",
              "      <td>1</td>\n",
              "      <td>Chips and Tomatillo-Green Chili Salsa</td>\n",
              "      <td></td>\n",
              "      <td>2.39</td>\n",
              "    </tr>\n",
              "    <tr>\n",
              "      <th>4</th>\n",
              "      <td>2</td>\n",
              "      <td>2</td>\n",
              "      <td>Chicken Bowl</td>\n",
              "      <td>[Tomatillo-Red Chili Salsa (Hot), [Black Beans...</td>\n",
              "      <td>16.98</td>\n",
              "    </tr>\n",
              "  </tbody>\n",
              "</table>\n",
              "</div>"
            ],
            "text/plain": [
              "   order_id  quantity  ...                                 choice_description  price\n",
              "0         1         1  ...                                                      2.39\n",
              "1         1         1  ...                                       [Clementine]   3.39\n",
              "2         1         1  ...                                            [Apple]   3.39\n",
              "3         1         1  ...                                                      2.39\n",
              "4         2         2  ...  [Tomatillo-Red Chili Salsa (Hot), [Black Beans...  16.98\n",
              "\n",
              "[5 rows x 5 columns]"
            ]
          },
          "metadata": {
            "tags": []
          },
          "execution_count": 9
        }
      ]
    },
    {
      "cell_type": "markdown",
      "metadata": {
        "id": "PRLIfYRLAbvY",
        "colab_type": "text"
      },
      "source": [
        "#### 5. [0.25 баллов] Какие 5 товаров были самыми дешёвыми и самыми дорогими? (по choice_description)\n",
        "\n",
        "Для этого будет удобно избавиться от дубликатов и отсортировать товары. Не забудьте про количество товара."
      ]
    },
    {
      "cell_type": "code",
      "metadata": {
        "id": "tzffVTwDAbvY",
        "colab_type": "code",
        "colab": {
          "base_uri": "https://localhost:8080/",
          "height": 204
        },
        "outputId": "14c904ef-2348-4b71-b99a-f7f0cdf7a54a"
      },
      "source": [
        "# your code\n",
        "data_dupl = data.drop_duplicates(subset=[\"item_name\", \"choice_description\"])\n",
        "data_dupl[\"value\"] = data_dupl[\"price\"] / data_dupl[\"quantity\"]\n",
        "data_dupl.sort_values(by = \"value\", inplace=True)"
      ],
      "execution_count": 315,
      "outputs": [
        {
          "output_type": "stream",
          "text": [
            "/usr/local/lib/python2.7/dist-packages/ipykernel_launcher.py:2: SettingWithCopyWarning: \n",
            "A value is trying to be set on a copy of a slice from a DataFrame.\n",
            "Try using .loc[row_indexer,col_indexer] = value instead\n",
            "\n",
            "See the caveats in the documentation: http://pandas.pydata.org/pandas-docs/stable/indexing.html#indexing-view-versus-copy\n",
            "  \n",
            "/usr/local/lib/python2.7/dist-packages/ipykernel_launcher.py:3: SettingWithCopyWarning: \n",
            "A value is trying to be set on a copy of a slice from a DataFrame\n",
            "\n",
            "See the caveats in the documentation: http://pandas.pydata.org/pandas-docs/stable/indexing.html#indexing-view-versus-copy\n",
            "  This is separate from the ipykernel package so we can avoid doing imports until\n"
          ],
          "name": "stderr"
        }
      ]
    },
    {
      "cell_type": "code",
      "metadata": {
        "id": "KKUYCesXvkUE",
        "colab_type": "code",
        "colab": {
          "base_uri": "https://localhost:8080/",
          "height": 204
        },
        "outputId": "3e211b08-b527-4ef1-eac8-8aba4b089eb0"
      },
      "source": [
        "#самые дешёвые\n",
        "data_dupl.head(5)\n"
      ],
      "execution_count": 316,
      "outputs": [
        {
          "output_type": "execute_result",
          "data": {
            "text/html": [
              "<div>\n",
              "<style scoped>\n",
              "    .dataframe tbody tr th:only-of-type {\n",
              "        vertical-align: middle;\n",
              "    }\n",
              "\n",
              "    .dataframe tbody tr th {\n",
              "        vertical-align: top;\n",
              "    }\n",
              "\n",
              "    .dataframe thead th {\n",
              "        text-align: right;\n",
              "    }\n",
              "</style>\n",
              "<table border=\"1\" class=\"dataframe\">\n",
              "  <thead>\n",
              "    <tr style=\"text-align: right;\">\n",
              "      <th></th>\n",
              "      <th>order_id</th>\n",
              "      <th>quantity</th>\n",
              "      <th>item_name</th>\n",
              "      <th>choice_description</th>\n",
              "      <th>price</th>\n",
              "      <th>value</th>\n",
              "    </tr>\n",
              "  </thead>\n",
              "  <tbody>\n",
              "    <tr>\n",
              "      <th>51</th>\n",
              "      <td>23</td>\n",
              "      <td>2</td>\n",
              "      <td>Canned Soda</td>\n",
              "      <td>[Mountain Dew]</td>\n",
              "      <td>2.18</td>\n",
              "      <td>1.09</td>\n",
              "    </tr>\n",
              "    <tr>\n",
              "      <th>34</th>\n",
              "      <td>17</td>\n",
              "      <td>1</td>\n",
              "      <td>Bottled Water</td>\n",
              "      <td></td>\n",
              "      <td>1.09</td>\n",
              "      <td>1.09</td>\n",
              "    </tr>\n",
              "    <tr>\n",
              "      <th>117</th>\n",
              "      <td>51</td>\n",
              "      <td>1</td>\n",
              "      <td>Canned Soda</td>\n",
              "      <td>[Diet Dr. Pepper]</td>\n",
              "      <td>1.09</td>\n",
              "      <td>1.09</td>\n",
              "    </tr>\n",
              "    <tr>\n",
              "      <th>126</th>\n",
              "      <td>55</td>\n",
              "      <td>1</td>\n",
              "      <td>Canned Soda</td>\n",
              "      <td>[Coca Cola]</td>\n",
              "      <td>1.09</td>\n",
              "      <td>1.09</td>\n",
              "    </tr>\n",
              "    <tr>\n",
              "      <th>28</th>\n",
              "      <td>14</td>\n",
              "      <td>1</td>\n",
              "      <td>Canned Soda</td>\n",
              "      <td>[Dr. Pepper]</td>\n",
              "      <td>1.09</td>\n",
              "      <td>1.09</td>\n",
              "    </tr>\n",
              "  </tbody>\n",
              "</table>\n",
              "</div>"
            ],
            "text/plain": [
              "     order_id  quantity      item_name choice_description  price  value\n",
              "51         23         2    Canned Soda     [Mountain Dew]   2.18   1.09\n",
              "34         17         1  Bottled Water                      1.09   1.09\n",
              "117        51         1    Canned Soda  [Diet Dr. Pepper]   1.09   1.09\n",
              "126        55         1    Canned Soda        [Coca Cola]   1.09   1.09\n",
              "28         14         1    Canned Soda       [Dr. Pepper]   1.09   1.09"
            ]
          },
          "metadata": {
            "tags": []
          },
          "execution_count": 316
        }
      ]
    },
    {
      "cell_type": "code",
      "metadata": {
        "id": "PV8A_zmQujdX",
        "colab_type": "code",
        "colab": {
          "base_uri": "https://localhost:8080/",
          "height": 204
        },
        "outputId": "00a15741-d800-4346-ec1c-7f0cba96773f"
      },
      "source": [
        "#самые дорогие\n",
        "data_dupl.tail(5)"
      ],
      "execution_count": 317,
      "outputs": [
        {
          "output_type": "execute_result",
          "data": {
            "text/html": [
              "<div>\n",
              "<style scoped>\n",
              "    .dataframe tbody tr th:only-of-type {\n",
              "        vertical-align: middle;\n",
              "    }\n",
              "\n",
              "    .dataframe tbody tr th {\n",
              "        vertical-align: top;\n",
              "    }\n",
              "\n",
              "    .dataframe thead th {\n",
              "        text-align: right;\n",
              "    }\n",
              "</style>\n",
              "<table border=\"1\" class=\"dataframe\">\n",
              "  <thead>\n",
              "    <tr style=\"text-align: right;\">\n",
              "      <th></th>\n",
              "      <th>order_id</th>\n",
              "      <th>quantity</th>\n",
              "      <th>item_name</th>\n",
              "      <th>choice_description</th>\n",
              "      <th>price</th>\n",
              "      <th>value</th>\n",
              "    </tr>\n",
              "  </thead>\n",
              "  <tbody>\n",
              "    <tr>\n",
              "      <th>1505</th>\n",
              "      <td>612</td>\n",
              "      <td>1</td>\n",
              "      <td>Steak Salad Bowl</td>\n",
              "      <td>[Fresh Tomato Salsa, [Rice, Pinto Beans, Chees...</td>\n",
              "      <td>11.89</td>\n",
              "      <td>11.89</td>\n",
              "    </tr>\n",
              "    <tr>\n",
              "      <th>3350</th>\n",
              "      <td>1343</td>\n",
              "      <td>1</td>\n",
              "      <td>Steak Salad Bowl</td>\n",
              "      <td>[Fresh Tomato Salsa, [Cheese, Guacamole, Lettu...</td>\n",
              "      <td>11.89</td>\n",
              "      <td>11.89</td>\n",
              "    </tr>\n",
              "    <tr>\n",
              "      <th>4239</th>\n",
              "      <td>1692</td>\n",
              "      <td>1</td>\n",
              "      <td>Carnitas Salad Bowl</td>\n",
              "      <td>[Tomatillo Green Chili Salsa, [Black Beans, Ch...</td>\n",
              "      <td>11.89</td>\n",
              "      <td>11.89</td>\n",
              "    </tr>\n",
              "    <tr>\n",
              "      <th>2442</th>\n",
              "      <td>970</td>\n",
              "      <td>1</td>\n",
              "      <td>Barbacoa Salad Bowl</td>\n",
              "      <td>[Tomatillo Green Chili Salsa, [Rice, Fajita Ve...</td>\n",
              "      <td>11.89</td>\n",
              "      <td>11.89</td>\n",
              "    </tr>\n",
              "    <tr>\n",
              "      <th>1816</th>\n",
              "      <td>734</td>\n",
              "      <td>1</td>\n",
              "      <td>Steak Salad Bowl</td>\n",
              "      <td>[Fresh Tomato Salsa, [Rice, Black Beans, Chees...</td>\n",
              "      <td>11.89</td>\n",
              "      <td>11.89</td>\n",
              "    </tr>\n",
              "  </tbody>\n",
              "</table>\n",
              "</div>"
            ],
            "text/plain": [
              "      order_id  quantity  ...  price  value\n",
              "1505       612         1  ...  11.89  11.89\n",
              "3350      1343         1  ...  11.89  11.89\n",
              "4239      1692         1  ...  11.89  11.89\n",
              "2442       970         1  ...  11.89  11.89\n",
              "1816       734         1  ...  11.89  11.89\n",
              "\n",
              "[5 rows x 6 columns]"
            ]
          },
          "metadata": {
            "tags": []
          },
          "execution_count": 317
        }
      ]
    },
    {
      "cell_type": "markdown",
      "metadata": {
        "id": "HxDnWM9eAbvb",
        "colab_type": "text"
      },
      "source": [
        "#### 6. [0.5 баллов] Сколько раз клиенты покупали больше 1 Chicken Bowl (item_name)?"
      ]
    },
    {
      "cell_type": "code",
      "metadata": {
        "id": "x00g6U5zAbvc",
        "colab_type": "code",
        "colab": {
          "base_uri": "https://localhost:8080/",
          "height": 34
        },
        "outputId": "ba11a24f-a66d-43e2-bf21-664e3dca0ca9"
      },
      "source": [
        "# your code\n",
        "data[(data[\"item_name\"] == \"Chicken Bowl\") & (data[\"quantity\"] > 1)].count()[0]"
      ],
      "execution_count": 272,
      "outputs": [
        {
          "output_type": "execute_result",
          "data": {
            "text/plain": [
              "33"
            ]
          },
          "metadata": {
            "tags": []
          },
          "execution_count": 272
        }
      ]
    },
    {
      "cell_type": "markdown",
      "metadata": {
        "id": "nh5E8KloAbvf",
        "colab_type": "text"
      },
      "source": [
        "#### 7. [0.5 баллов] Какой средний чек у заказа? Сколько в среднем товаров покупают?\n",
        "\n",
        "Если необходимо провести вычисления в терминах заказов, то будет удобно сгруппировать строки по заказам и посчитать необходимые статистики."
      ]
    },
    {
      "cell_type": "code",
      "metadata": {
        "id": "FNfRoz7rAbvg",
        "colab_type": "code",
        "colab": {
          "base_uri": "https://localhost:8080/",
          "height": 34
        },
        "outputId": "e615db82-7f17-4d56-a645-2e8ddf3074df"
      },
      "source": [
        "# your code\n",
        "data.groupby(\"order_id\")[\"price\"].sum().mean()\n"
      ],
      "execution_count": 273,
      "outputs": [
        {
          "output_type": "execute_result",
          "data": {
            "text/plain": [
              "18.811428571428568"
            ]
          },
          "metadata": {
            "tags": []
          },
          "execution_count": 273
        }
      ]
    },
    {
      "cell_type": "code",
      "metadata": {
        "id": "rB7YqrNxHX7C",
        "colab_type": "code",
        "colab": {
          "base_uri": "https://localhost:8080/",
          "height": 34
        },
        "outputId": "12e570a5-d7c1-416b-f7e0-1d4bff47eef5"
      },
      "source": [
        "data.groupby(\"order_id\")[\"quantity\"].sum().mean()"
      ],
      "execution_count": 274,
      "outputs": [
        {
          "output_type": "execute_result",
          "data": {
            "text/plain": [
              "2.711014176663032"
            ]
          },
          "metadata": {
            "tags": []
          },
          "execution_count": 274
        }
      ]
    },
    {
      "cell_type": "markdown",
      "metadata": {
        "id": "8LqIU3efAbvi",
        "colab_type": "text"
      },
      "source": [
        "#### 8. [0.25 баллов] Сколько заказов содержали ровно 1 товар?"
      ]
    },
    {
      "cell_type": "code",
      "metadata": {
        "id": "154LtEx3Abvj",
        "colab_type": "code",
        "colab": {
          "base_uri": "https://localhost:8080/",
          "height": 34
        },
        "outputId": "f568608b-5a33-477b-e25a-ca9dd7acce26"
      },
      "source": [
        "# your code\n",
        "data.groupby(\"order_id\")[\"quantity\"].sum().value_counts().loc[1]"
      ],
      "execution_count": 275,
      "outputs": [
        {
          "output_type": "execute_result",
          "data": {
            "text/plain": [
              "56"
            ]
          },
          "metadata": {
            "tags": []
          },
          "execution_count": 275
        }
      ]
    },
    {
      "cell_type": "markdown",
      "metadata": {
        "id": "1H2M3aKyAbvm",
        "colab_type": "text"
      },
      "source": [
        "#### 9. [0.25 баллов] Какая самая популярная категория товара? "
      ]
    },
    {
      "cell_type": "code",
      "metadata": {
        "id": "3L_1cAsaAbvn",
        "colab_type": "code",
        "colab": {
          "base_uri": "https://localhost:8080/",
          "height": 34
        },
        "outputId": "1b78a8a9-a669-412a-de16-a4c24d85bb7e"
      },
      "source": [
        "# your code\n",
        "data.groupby(\"item_name\")[\"quantity\"].sum().idxmax()"
      ],
      "execution_count": 276,
      "outputs": [
        {
          "output_type": "execute_result",
          "data": {
            "text/plain": [
              "'Chicken Bowl'"
            ]
          },
          "metadata": {
            "tags": []
          },
          "execution_count": 276
        }
      ]
    },
    {
      "cell_type": "markdown",
      "metadata": {
        "id": "d8YnFoe8Abvp",
        "colab_type": "text"
      },
      "source": [
        "#### 10. [0.25 баллов] Какие виды Burrito существуют? Какой из них чаще всего покупают? Какой из них самый дорогой? "
      ]
    },
    {
      "cell_type": "code",
      "metadata": {
        "id": "lh5K5zT6Abvq",
        "colab_type": "code",
        "colab": {
          "base_uri": "https://localhost:8080/",
          "height": 34
        },
        "outputId": "4ca10f97-1f00-4b5e-fcfe-aacfe0cc786e"
      },
      "source": [
        "# your code\n",
        "\n",
        "burrito = data[data[\"item_name\"].str.contains(\"Burrito\", na=False)]\n",
        "burrito[\"item_name\"].nunique()                   "
      ],
      "execution_count": 277,
      "outputs": [
        {
          "output_type": "execute_result",
          "data": {
            "text/plain": [
              "6"
            ]
          },
          "metadata": {
            "tags": []
          },
          "execution_count": 277
        }
      ]
    },
    {
      "cell_type": "code",
      "metadata": {
        "id": "rVp5H3WA_3x_",
        "colab_type": "code",
        "colab": {
          "base_uri": "https://localhost:8080/",
          "height": 34
        },
        "outputId": "20fa920c-e386-4dbb-c1d9-158a5f572783"
      },
      "source": [
        "burrito.groupby(by = [\"item_name\"])[\"quantity\"].sum().idxmax()"
      ],
      "execution_count": 278,
      "outputs": [
        {
          "output_type": "execute_result",
          "data": {
            "text/plain": [
              "'Chicken Burrito'"
            ]
          },
          "metadata": {
            "tags": []
          },
          "execution_count": 278
        }
      ]
    },
    {
      "cell_type": "code",
      "metadata": {
        "id": "jDFsimIGEcn4",
        "colab_type": "code",
        "colab": {
          "base_uri": "https://localhost:8080/",
          "height": 136
        },
        "outputId": "12589f44-5e14-4a9a-d4d0-076051db31a3"
      },
      "source": [
        "burrito[\"value\"] = burrito[\"price\"] / burrito[\"quantity\"]\n",
        "burrito.sort_values(by=\"value\", axis=0).iloc[-1, 2]\n"
      ],
      "execution_count": 279,
      "outputs": [
        {
          "output_type": "stream",
          "text": [
            "/usr/local/lib/python2.7/dist-packages/ipykernel_launcher.py:1: SettingWithCopyWarning: \n",
            "A value is trying to be set on a copy of a slice from a DataFrame.\n",
            "Try using .loc[row_indexer,col_indexer] = value instead\n",
            "\n",
            "See the caveats in the documentation: http://pandas.pydata.org/pandas-docs/stable/indexing.html#indexing-view-versus-copy\n",
            "  \"\"\"Entry point for launching an IPython kernel.\n"
          ],
          "name": "stderr"
        },
        {
          "output_type": "execute_result",
          "data": {
            "text/plain": [
              "'Steak Burrito'"
            ]
          },
          "metadata": {
            "tags": []
          },
          "execution_count": 279
        }
      ]
    },
    {
      "cell_type": "markdown",
      "metadata": {
        "collapsed": true,
        "id": "voRWraSgAbvt",
        "colab_type": "text"
      },
      "source": [
        "#### 11. [0.25 баллов] В каком количестве заказов есть товар, который стоит более 40% от суммы всего чека?\n",
        "\n",
        "Возможно, будет удобно посчитать отдельно средний чек, добавить его в исходные данные и сделать необходимые проверки."
      ]
    },
    {
      "cell_type": "code",
      "metadata": {
        "id": "LOxIXThiAbvu",
        "colab_type": "code",
        "colab": {
          "base_uri": "https://localhost:8080/",
          "height": 204
        },
        "outputId": "0e0e2048-54db-4c87-f2ef-3462b93e5aeb"
      },
      "source": [
        "# your code\n",
        "data.head()"
      ],
      "execution_count": 116,
      "outputs": [
        {
          "output_type": "execute_result",
          "data": {
            "text/html": [
              "<div>\n",
              "<style scoped>\n",
              "    .dataframe tbody tr th:only-of-type {\n",
              "        vertical-align: middle;\n",
              "    }\n",
              "\n",
              "    .dataframe tbody tr th {\n",
              "        vertical-align: top;\n",
              "    }\n",
              "\n",
              "    .dataframe thead th {\n",
              "        text-align: right;\n",
              "    }\n",
              "</style>\n",
              "<table border=\"1\" class=\"dataframe\">\n",
              "  <thead>\n",
              "    <tr style=\"text-align: right;\">\n",
              "      <th></th>\n",
              "      <th>order_id</th>\n",
              "      <th>quantity</th>\n",
              "      <th>item_name</th>\n",
              "      <th>choice_description</th>\n",
              "      <th>price</th>\n",
              "      <th>date</th>\n",
              "      <th>value</th>\n",
              "      <th>day</th>\n",
              "    </tr>\n",
              "  </thead>\n",
              "  <tbody>\n",
              "    <tr>\n",
              "      <th>0</th>\n",
              "      <td>1</td>\n",
              "      <td>1</td>\n",
              "      <td>Chips and Fresh Tomato Salsa</td>\n",
              "      <td></td>\n",
              "      <td>2.39</td>\n",
              "      <td>01-01</td>\n",
              "      <td>2.39</td>\n",
              "      <td>1</td>\n",
              "    </tr>\n",
              "    <tr>\n",
              "      <th>1</th>\n",
              "      <td>1</td>\n",
              "      <td>1</td>\n",
              "      <td>Izze</td>\n",
              "      <td>[Clementine]</td>\n",
              "      <td>3.39</td>\n",
              "      <td>01-01</td>\n",
              "      <td>3.39</td>\n",
              "      <td>1</td>\n",
              "    </tr>\n",
              "    <tr>\n",
              "      <th>2</th>\n",
              "      <td>1</td>\n",
              "      <td>1</td>\n",
              "      <td>Nantucket Nectar</td>\n",
              "      <td>[Apple]</td>\n",
              "      <td>3.39</td>\n",
              "      <td>01-01</td>\n",
              "      <td>3.39</td>\n",
              "      <td>1</td>\n",
              "    </tr>\n",
              "    <tr>\n",
              "      <th>3</th>\n",
              "      <td>1</td>\n",
              "      <td>1</td>\n",
              "      <td>Chips and Tomatillo-Green Chili Salsa</td>\n",
              "      <td></td>\n",
              "      <td>2.39</td>\n",
              "      <td>01-01</td>\n",
              "      <td>2.39</td>\n",
              "      <td>1</td>\n",
              "    </tr>\n",
              "    <tr>\n",
              "      <th>4</th>\n",
              "      <td>2</td>\n",
              "      <td>2</td>\n",
              "      <td>Chicken Bowl</td>\n",
              "      <td>[Tomatillo-Red Chili Salsa (Hot), [Black Beans...</td>\n",
              "      <td>16.98</td>\n",
              "      <td>01-22</td>\n",
              "      <td>8.49</td>\n",
              "      <td>1</td>\n",
              "    </tr>\n",
              "  </tbody>\n",
              "</table>\n",
              "</div>"
            ],
            "text/plain": [
              "   order_id  quantity                              item_name  ...   date  value day\n",
              "0         1         1           Chips and Fresh Tomato Salsa  ...  01-01   2.39   1\n",
              "1         1         1                                   Izze  ...  01-01   3.39   1\n",
              "2         1         1                       Nantucket Nectar  ...  01-01   3.39   1\n",
              "3         1         1  Chips and Tomatillo-Green Chili Salsa  ...  01-01   2.39   1\n",
              "4         2         2                           Chicken Bowl  ...  01-22   8.49   1\n",
              "\n",
              "[5 rows x 8 columns]"
            ]
          },
          "metadata": {
            "tags": []
          },
          "execution_count": 116
        }
      ]
    },
    {
      "cell_type": "markdown",
      "metadata": {
        "id": "IvGJgnHRAbvy",
        "colab_type": "text"
      },
      "source": [
        "#### 12. [0.25 баллов] Предположим, что в данных была ошибка и Diet Coke (choice_description), который стоил $1.25, должен был стоить 1.35. Скорректируйте данные в таблицы и посчитайте, на какой процент больше денег было заработано с этого товара. Не забывайте, что количество товара не всегда равно 1."
      ]
    },
    {
      "cell_type": "code",
      "metadata": {
        "id": "0Edri-lYAbvz",
        "colab_type": "code",
        "colab": {
          "base_uri": "https://localhost:8080/",
          "height": 204
        },
        "outputId": "cd814852-af0d-4926-f1bd-fbc91515f6b1"
      },
      "source": [
        "# your code\n"
      ],
      "execution_count": 286,
      "outputs": [
        {
          "output_type": "execute_result",
          "data": {
            "text/html": [
              "<div>\n",
              "<style scoped>\n",
              "    .dataframe tbody tr th:only-of-type {\n",
              "        vertical-align: middle;\n",
              "    }\n",
              "\n",
              "    .dataframe tbody tr th {\n",
              "        vertical-align: top;\n",
              "    }\n",
              "\n",
              "    .dataframe thead th {\n",
              "        text-align: right;\n",
              "    }\n",
              "</style>\n",
              "<table border=\"1\" class=\"dataframe\">\n",
              "  <thead>\n",
              "    <tr style=\"text-align: right;\">\n",
              "      <th></th>\n",
              "      <th>order_id</th>\n",
              "      <th>quantity</th>\n",
              "      <th>item_name</th>\n",
              "      <th>choice_description</th>\n",
              "      <th>price</th>\n",
              "    </tr>\n",
              "  </thead>\n",
              "  <tbody>\n",
              "    <tr>\n",
              "      <th>0</th>\n",
              "      <td>1</td>\n",
              "      <td>1</td>\n",
              "      <td>Chips and Fresh Tomato Salsa</td>\n",
              "      <td></td>\n",
              "      <td>2.39</td>\n",
              "    </tr>\n",
              "    <tr>\n",
              "      <th>1</th>\n",
              "      <td>1</td>\n",
              "      <td>1</td>\n",
              "      <td>Izze</td>\n",
              "      <td>[Clementine]</td>\n",
              "      <td>3.39</td>\n",
              "    </tr>\n",
              "    <tr>\n",
              "      <th>2</th>\n",
              "      <td>1</td>\n",
              "      <td>1</td>\n",
              "      <td>Nantucket Nectar</td>\n",
              "      <td>[Apple]</td>\n",
              "      <td>3.39</td>\n",
              "    </tr>\n",
              "    <tr>\n",
              "      <th>3</th>\n",
              "      <td>1</td>\n",
              "      <td>1</td>\n",
              "      <td>Chips and Tomatillo-Green Chili Salsa</td>\n",
              "      <td></td>\n",
              "      <td>2.39</td>\n",
              "    </tr>\n",
              "    <tr>\n",
              "      <th>4</th>\n",
              "      <td>2</td>\n",
              "      <td>2</td>\n",
              "      <td>Chicken Bowl</td>\n",
              "      <td>[Tomatillo-Red Chili Salsa (Hot), [Black Beans...</td>\n",
              "      <td>16.98</td>\n",
              "    </tr>\n",
              "  </tbody>\n",
              "</table>\n",
              "</div>"
            ],
            "text/plain": [
              "   order_id  quantity  ...                                 choice_description  price\n",
              "0         1         1  ...                                                      2.39\n",
              "1         1         1  ...                                       [Clementine]   3.39\n",
              "2         1         1  ...                                            [Apple]   3.39\n",
              "3         1         1  ...                                                      2.39\n",
              "4         2         2  ...  [Tomatillo-Red Chili Salsa (Hot), [Black Beans...  16.98\n",
              "\n",
              "[5 rows x 5 columns]"
            ]
          },
          "metadata": {
            "tags": []
          },
          "execution_count": 286
        }
      ]
    },
    {
      "cell_type": "markdown",
      "metadata": {
        "id": "XBd8LYRaAbv2",
        "colab_type": "text"
      },
      "source": [
        "#### 13. [0.25 баллов] Создайте новый DateFrame из матрицы, созданной ниже. Назовите колонки index, column1, column2 и сделайте первую колонку индексом."
      ]
    },
    {
      "cell_type": "code",
      "metadata": {
        "id": "3JH2GUDvAbv2",
        "colab_type": "code",
        "colab": {}
      },
      "source": [
        "data = np.random.rand(10, 3)\n",
        "\n",
        "# your code\n",
        "df = pd.DataFrame(data, columns=[\"index\", \"column1\", \"column2\"])\n",
        "df = df.set_index(df.columns[0])"
      ],
      "execution_count": 0,
      "outputs": []
    },
    {
      "cell_type": "markdown",
      "metadata": {
        "id": "VedLvmSVAbv5",
        "colab_type": "text"
      },
      "source": [
        "Сохраните DataFrame на диск в формате csv без индексов и названий столбцов."
      ]
    },
    {
      "cell_type": "code",
      "metadata": {
        "id": "W2SYoSaNAbv6",
        "colab_type": "code",
        "colab": {}
      },
      "source": [
        "# your code\n",
        "df.to_csv(\"rand_data.csv\", header=False, index=False)"
      ],
      "execution_count": 0,
      "outputs": []
    },
    {
      "cell_type": "markdown",
      "metadata": {
        "id": "dG4V5hIdAbv9",
        "colab_type": "text"
      },
      "source": [
        "## 3. Визуализации и matplotlib"
      ]
    },
    {
      "cell_type": "markdown",
      "metadata": {
        "id": "leMMxwfJAbv-",
        "colab_type": "text"
      },
      "source": [
        "При работе с данными часто неудобно делать какие-то выводы, если смотреть на таблицу и числа в частности, поэтому важно уметь визуализировать данные. В этом разделе мы этим и займёмся.\n",
        "\n",
        "У matplotlib, конечно, же есть [документация](https://matplotlib.org/users/index.html) с большим количеством [примеров](https://matplotlib.org/examples/), но для начала достаточно знать про несколько основных типов графиков:\n",
        "- plot — обычный поточечный график, которым можно изображать кривые или отдельные точки;\n",
        "- hist — гистограмма, показывающая распределение некоторое величины;\n",
        "- scatter — график, показывающий взаимосвязь двух величин;\n",
        "- bar — столбцовый график, показывающий взаимосвязь количественной величины от категориальной.\n",
        "\n",
        "В этом задании вы попробуете построить каждый из них. Не менее важно усвоить базовые принципы визуализаций:\n",
        "- на графиках должны быть подписаны оси;\n",
        "- у визуализации должно быть название;\n",
        "- если изображено несколько графиков, то необходима поясняющая легенда;\n",
        "- все линии на графиках должны быть чётко видны (нет похожих цветов или цветов, сливающихся с фоном);\n",
        "- если отображена величина, имеющая очевидный диапазон значений (например, проценты могут быть от 0 до 100), то желательно масштабировать ось на весь диапазон значений (исключением является случай, когда вам необходимо показать малое отличие, которое незаметно в таких масштабах).\n",
        "- сетка на графике помогает оценить значения в точках на глаз, это обычно полезно, поэтому лучше ее отрисовывать."
      ]
    },
    {
      "cell_type": "code",
      "metadata": {
        "id": "338xK8zOAbv_",
        "colab_type": "code",
        "colab": {}
      },
      "source": [
        "%matplotlib inline  \n",
        "import matplotlib.pyplot as plt"
      ],
      "execution_count": 0,
      "outputs": []
    },
    {
      "cell_type": "markdown",
      "metadata": {
        "id": "yVSAja-lAbwF",
        "colab_type": "text"
      },
      "source": [
        "На самом деле мы уже импортировали matplotlib внутри %pylab inline в начале задания.\n",
        "\n",
        "Работать мы будем с той же выборкой покупкок. Добавим новую колонку с датой покупки."
      ]
    },
    {
      "cell_type": "code",
      "metadata": {
        "id": "uY6-tVRgAbwG",
        "colab_type": "code",
        "colab": {}
      },
      "source": [
        "import datetime\n",
        "\n",
        "start = datetime.datetime(2018, 1, 1)\n",
        "end = datetime.datetime(2018, 1, 31)\n",
        "delta_seconds = int((end - start).total_seconds())\n",
        "\n",
        "dates = pd.DataFrame(index=data.order_id.unique())\n",
        "dates['date'] = [\n",
        "    (start + datetime.timedelta(seconds=random.randint(0, delta_seconds))).strftime('%Y-%m-%d')\n",
        "    for _ in range(data.order_id.nunique())]\n",
        "\n",
        "# если DataFrame с покупками из прошлого заказа называется не df, замените на ваше название ниже\n",
        "data['date'] = data.order_id.map(dates['date'])"
      ],
      "execution_count": 0,
      "outputs": []
    },
    {
      "cell_type": "markdown",
      "metadata": {
        "id": "nPvQwIoLAbwI",
        "colab_type": "text"
      },
      "source": [
        "#### 1. [0.5 баллов] Постройте гистограмму распределения сумм покупок и гистограмму средних цен отдельных видов продуктов item_name. \n",
        "\n",
        "Изображайте на двух соседних графиках. Для этого может быть полезен subplot."
      ]
    },
    {
      "cell_type": "code",
      "metadata": {
        "id": "-Tx5v5CWAbwK",
        "colab_type": "code",
        "colab": {
          "base_uri": "https://localhost:8080/",
          "height": 369
        },
        "outputId": "da1c4aa1-ade0-42ac-cb1e-9cdc2be4c695"
      },
      "source": [
        "# your code\n",
        "receipt = data.groupby(\"order_id\")[\"price\"].sum()\n",
        "data[\"value\"] = data[\"price\"] / data[\"quantity\"]\n",
        "av_price = data.groupby(\"item_name\")[\"value\"].mean()\n",
        "fig, axes = plt.subplots(nrows=1, ncols=2, figsize = (16, 5))\n",
        "\n",
        "\n",
        "bins = 20\n",
        "axes[0].hist(receipt, bins=bins, alpha=0.6)\n",
        "axes[0].set_xlabel('Receipt', fontsize=15)\n",
        "axes[0].set_ylabel('Count', fontsize=15)\n",
        "axes[0].set_title('Receipt distribution', fontsize=15)\n",
        "\n",
        "axes[1].hist(av_price, bins=bins, alpha=0.6)\n",
        "axes[1].set_xlabel('Average price', fontsize=15)\n",
        "axes[1].set_ylabel('Count', fontsize=15)\n",
        "axes[1].set_title('price distribution', fontsize=15)\n",
        "\n",
        "fig.tight_layout()"
      ],
      "execution_count": 12,
      "outputs": [
        {
          "output_type": "display_data",
          "data": {
            "image/png": "[encoded data removed]",
            "text/plain": [
              "<Figure size 1152x360 with 2 Axes>"
            ]
          },
          "metadata": {
            "tags": []
          }
        }
      ]
    },
    {
      "cell_type": "markdown",
      "metadata": {
        "id": "-ca9jcOmAbwM",
        "colab_type": "text"
      },
      "source": [
        "#### 2. [0.5 баллов] Постройте график зависимости суммы покупок от дней."
      ]
    },
    {
      "cell_type": "code",
      "metadata": {
        "id": "nShnRk8GAbwN",
        "colab_type": "code",
        "colab": {}
      },
      "source": [
        "# your code\n",
        "data[\"date\"] = data[\"date\"].apply(lambda x: x[-5:])\n",
        "to_plot = data.groupby(\"date\")[\"price\"].sum()\n"
      ],
      "execution_count": 0,
      "outputs": []
    },
    {
      "cell_type": "code",
      "metadata": {
        "id": "uDq_x6zud-9N",
        "colab_type": "code",
        "colab": {
          "base_uri": "https://localhost:8080/",
          "height": 436
        },
        "outputId": "2245870a-2e3f-4f0a-e282-595f8dc7b929"
      },
      "source": [
        "fig = plt.figure(figsize=(20, 6))\n",
        "\n",
        "axes = fig.add_axes([0.1, 0.1, 0.8, 0.8])\n",
        "\n",
        "axes.plot(to_plot, 'r')\n",
        "\n",
        "axes.set_xlabel('day', fontsize=18)\n",
        "axes.set_ylabel('revenue', fontsize=18)\n",
        "axes.set_title('Daily revenue', fontsize=18)\n",
        "plt.grid()\n"
      ],
      "execution_count": 62,
      "outputs": [
        {
          "output_type": "display_data",
          "data": {
            "image/png": "[encoded data removed]",
            "text/plain": [
              "<Figure size 1440x432 with 1 Axes>"
            ]
          },
          "metadata": {
            "tags": []
          }
        }
      ]
    },
    {
      "cell_type": "markdown",
      "metadata": {
        "id": "6uConA2oAbwO",
        "colab_type": "text"
      },
      "source": [
        "#### 3. [0,5 баллов] Постройте средних сумм покупок по дням недели (bar plot)."
      ]
    },
    {
      "cell_type": "code",
      "metadata": {
        "id": "_UKrOd2su3TN",
        "colab_type": "code",
        "colab": {
          "base_uri": "https://localhost:8080/",
          "height": 170
        },
        "outputId": "7c504c5a-cee9-4fac-e87c-94b1cfef169f"
      },
      "source": [
        "day.groupby(\"day\")[\"price\"].mean()"
      ],
      "execution_count": 107,
      "outputs": [
        {
          "output_type": "execute_result",
          "data": {
            "text/plain": [
              "day\n",
              "0    1041.2600\n",
              "1    1221.1140\n",
              "2    1168.2220\n",
              "3    1163.7400\n",
              "4    1141.9975\n",
              "5    1186.2075\n",
              "6    1105.1650\n",
              "Name: price, dtype: float64"
            ]
          },
          "metadata": {
            "tags": []
          },
          "execution_count": 107
        }
      ]
    },
    {
      "cell_type": "code",
      "metadata": {
        "id": "8NgLJi7NAbwP",
        "colab_type": "code",
        "colab": {
          "base_uri": "https://localhost:8080/",
          "height": 453
        },
        "outputId": "e980f266-5ec1-4ab9-c4fa-8606e8bfce07"
      },
      "source": [
        "# your code\n",
        "day = to_plot.to_frame()\n",
        "day[\"day\"] = to_plot.index\n",
        "day[\"day\"] = day[\"day\"].apply(lambda x: int(x[-2:]) % 7)\n",
        "\n",
        "fig = plt.figure(figsize=(10, 6))\n",
        "\n",
        "axes = fig.add_axes([0.1, 0.1, 0.8, 0.8])\n",
        "\n",
        "axes.bar(day.groupby(\"day\")[\"price\"].mean().index, day.groupby(\"day\")[\"price\"].mean())\n",
        "\n",
        "axes.set_xlabel('quantity', fontsize=18)\n",
        "axes.set_ylabel('price', fontsize=18)\n",
        "axes.set_title('Demand like', fontsize=18)\n",
        "\n",
        "plt.xticks(day.groupby(\"day\")[\"price\"].mean().index, (\"Sun\", 'Mon', 'Tue', 'Wed', 'Thu', \"Fri\", \"Sut\"))\n",
        "plt.grid"
      ],
      "execution_count": 115,
      "outputs": [
        {
          "output_type": "execute_result",
          "data": {
            "text/plain": [
              "<function matplotlib.pyplot.grid>"
            ]
          },
          "metadata": {
            "tags": []
          },
          "execution_count": 115
        },
        {
          "output_type": "display_data",
          "data": {
            "image/png": "[encoded data removed]",
            "text/plain": [
              "<Figure size 720x432 with 1 Axes>"
            ]
          },
          "metadata": {
            "tags": []
          }
        }
      ]
    },
    {
      "cell_type": "markdown",
      "metadata": {
        "id": "2j0-UV2cAbwU",
        "colab_type": "text"
      },
      "source": [
        "#### 4. [0.5 баллов] Постройте график зависимости денег за товар от купленного количества (scatter plot)."
      ]
    },
    {
      "cell_type": "code",
      "metadata": {
        "id": "5jI1YzVSAbwV",
        "colab_type": "code",
        "colab": {
          "base_uri": "https://localhost:8080/",
          "height": 436
        },
        "outputId": "98c0164a-59c3-4cbc-9948-6fb4e85dcf8c"
      },
      "source": [
        "# your code\n",
        "fig = plt.figure(figsize=(10, 6))\n",
        "\n",
        "axes = fig.add_axes([0.1, 0.1, 0.8, 0.8])\n",
        "\n",
        "axes.plot(data.groupby(\"quantity\")[\"value\"].mean(), 'r*-')\n",
        "\n",
        "axes.set_xlabel('quantity', fontsize=18)\n",
        "axes.set_ylabel('price', fontsize=18)\n",
        "axes.set_title('Demand like', fontsize=18)\n",
        "plt.grid()"
      ],
      "execution_count": 84,
      "outputs": [
        {
          "output_type": "display_data",
          "data": {
            "image/png": "[encoded data removed]",
            "text/plain": [
              "<Figure size 720x432 with 1 Axes>"
            ]
          },
          "metadata": {
            "tags": []
          }
        }
      ]
    },
    {
      "cell_type": "markdown",
      "metadata": {
        "id": "2so9PXoJAbwX",
        "colab_type": "text"
      },
      "source": [
        "Сохраните график в формате pdf (так он останется векторизованным)."
      ]
    },
    {
      "cell_type": "code",
      "metadata": {
        "id": "dHHbnuceAbwY",
        "colab_type": "code",
        "colab": {}
      },
      "source": [
        "# your code\n",
        "fig.savefig(\"Like.pdf\")"
      ],
      "execution_count": 0,
      "outputs": []
    },
    {
      "cell_type": "markdown",
      "metadata": {
        "id": "L01PJ6FnAbwa",
        "colab_type": "text"
      },
      "source": [
        "Еще одна билиотека для визуализации: [seaborn](https://jakevdp.github.io/PythonDataScienceHandbook/04.14-visualization-with-seaborn.html). Это настройка над matplotlib, иногда удобнее и красивее делать визуализации через неё. "
      ]
    }
  ]
}